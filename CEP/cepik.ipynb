{
 "cells": [
  {
   "cell_type": "code",
   "execution_count": 3,
   "metadata": {},
   "outputs": [],
   "source": [
    "import pandas as pd\n",
    "import os\n",
    "import numpy as np\n",
    "import requests\n",
    "\n",
    "\n",
    "CEP_CSV_PATH = \"cepik\"\n",
    "\n",
    "# load cep dictionaries by name\n",
    "def loadCEPDict(name):\n",
    "    filename = \"cepik/\" + name + \".csv\"\n",
    "    return pd.read_csv(filename, sep=',', error_bad_lines=False)\n",
    "\n",
    "\n",
    "def load_cepik_data(cep_csv_path=CEP_CSV_PATH):\n",
    "\n",
    "    type_dict = {'rodzaj_tab_znamionowej': 'category'}\n",
    "\n",
    "\n",
    "    csv_pathh = os.path.join(cep_csv_path, \"pojazdy_30_2019-10-27.csv\")\n",
    "    return pd.read_csv(csv_pathh,sep=',',error_bad_lines=False, parse_dates=True, dtype=type_dict)\n"
   ]
  },
  {
   "cell_type": "markdown",
   "metadata": {},
   "source": [
    "Zmiana precyzi z jaką będą wyświetlane wartonosci zmiennoprzecinkowe"
   ]
  },
  {
   "cell_type": "code",
   "execution_count": 4,
   "metadata": {
    "scrolled": true
   },
   "outputs": [
    {
     "name": "stderr",
     "output_type": "stream",
     "text": [
      "/Users/doc/Documents/PycharmProjects/ML-book/Task1/venv/lib/python2.7/site-packages/IPython/core/interactiveshell.py:2818: DtypeWarning: Columns (12,13) have mixed types. Specify dtype option on import or set low_memory=False.\n",
      "  if self.run_code(code, result):\n"
     ]
    }
   ],
   "source": [
    "cep = load_cepik_data()"
   ]
  },
  {
   "cell_type": "code",
   "execution_count": 5,
   "metadata": {
    "scrolled": true
   },
   "outputs": [],
   "source": [
    "summary = pd.DataFrame(cep.dtypes, columns=['Dtype'])\n",
    "summary['Nulls'] = pd.DataFrame(cep.isnull().any())\n",
    "summary['Sum_of_nulls'] = pd.DataFrame(cep.isnull().sum())\n",
    "summary['Per_of_nulls'] = round((cep.apply(pd.isnull).mean()*100),2)\n",
    "\n",
    "summary.Dtype = summary.Dtype.astype(str)\n",
    "summary"
   ]
  },
  {
   "cell_type": "code",
   "execution_count": 6,
   "metadata": {
    "scrolled": true
   },
   "outputs": [
    {
     "name": "stdout",
     "output_type": "stream",
     "text": [
      "<class 'pandas.core.frame.DataFrame'>\n",
      "RangeIndex: 4719994 entries, 0 to 4719993\n",
      "Data columns (total 71 columns):\n",
      "pojazd_id                         int64\n",
      "marka                             object\n",
      "kategoria                         float64\n",
      "typ                               object\n",
      "model                             object\n",
      "wariant                           object\n",
      "wersja                            object\n",
      "rodzaj                            object\n",
      "podrodzaj                         object\n",
      "przeznaczenie                     object\n",
      "pochodzenie                       object\n",
      "rodzaj_tab_znamionowej            category\n",
      "rok_produkcji                     object\n",
      "sposob_produkcji                  object\n",
      "data_pierwszej_rej                object\n",
      "data_rejestracji_ost              object\n",
      "data_pierwszej_rej_za_granica     object\n",
      "pojemnosc_silnika                 float64\n",
      "moc_do_masy                       float64\n",
      "moc_silnika                       float64\n",
      "moc_silnika_hybrydowego           float64\n",
      "masa_wlasna                       float64\n",
      "masa_pgj                          float64\n",
      "dopuszczalna_masa_calkowita       float64\n",
      "maksymalna_masa_calkowita         float64\n",
      "dopuszczalna_ladownosc_calk       float64\n",
      "maksymalna_ladownosc_calk         float64\n",
      "dopuszczalna_masa_ciag_zesp       float64\n",
      "liczba_osi                        float64\n",
      "naj_dopuszczalny_nacisk_osi       float64\n",
      "naj_maksymalny_nacisk_osi         float64\n",
      "max_masa_przyczepy_z_hamulcem     float64\n",
      "max_masa_przyczepy_bez_ham        float64\n",
      "liczba_miejsc_ogolem              float64\n",
      "liczba_miejsc_siedzacych          float64\n",
      "liczba_miejsc_stojacych           float64\n",
      "rodzaj_paliwa                     object\n",
      "rodzaj_paliwa_alternatywnego      object\n",
      "rodzaj_paliwa_alternatywnego2     object\n",
      "sr_zuzycie_pal                    float64\n",
      "rodzaj_zawieszenia                object\n",
      "radar                             float64\n",
      "hak                               object\n",
      "kierownica_polozenie              float64\n",
      "kierownica_z_prawej               object\n",
      "katalizator                       object\n",
      "producent_podstawowy              object\n",
      "kod_ident                         float64\n",
      "rozstaw_osi_kierowanej            float64\n",
      "rozstaw_kol_max                   float64\n",
      "rozstaw_kol_sred                  float64\n",
      "rozstaw_kol_min                   float64\n",
      "emisja_co2_redukcja               float64\n",
      "wersja_rpp                        float64\n",
      "kod_rpp                           float64\n",
      "data_wyrejestrowania              object\n",
      "przyczyna_wyrejestrowania         object\n",
      "data_wprowadzenia_danych          object\n",
      "akt_miejsce_rej_wojwe             object\n",
      "akt_miejsce_rej_powiat            object\n",
      "akt_miejsce_rej_gmina             object\n",
      "siedziba_wlasciciela_woj          object\n",
      "siedziba_wlasciciela_pow          object\n",
      "siedziba_wlasciciela_gmina        object\n",
      "data_pierwszej_rej_w_kraju        object\n",
      "createtimestamp                   object\n",
      "modifytimestamp                   object\n",
      "siedziba_wlasciciela_woj_teryt    float64\n",
      "akt_miejsce_rej_wojew_teryt       int64\n",
      "emisja_co2                        float64\n",
      "emisja_co2_pal_alternatywne1      float64\n",
      "dtypes: category(1), float64(34), int64(2), object(34)\n",
      "memory usage: 2.5+ GB\n"
     ]
    }
   ],
   "source": [
    "cep.info()"
   ]
  },
  {
   "cell_type": "markdown",
   "metadata": {},
   "source": [
    "zastępujęmy '---' NaN dla wybranych kolumn"
   ]
  },
  {
   "cell_type": "code",
   "execution_count": 46,
   "metadata": {
    "scrolled": true
   },
   "outputs": [],
   "source": [
    "for col in ['typ','wariant','wersja','przeznaczenie']:\n",
    "    cep[col].replace('---', np.NaN,inplace=True)\n"
   ]
  },
  {
   "cell_type": "markdown",
   "metadata": {},
   "source": [
    "Zmiana pól zawierających daty na datetime64"
   ]
  },
  {
   "cell_type": "code",
   "execution_count": 47,
   "metadata": {},
   "outputs": [],
   "source": [
    "for col in ['data_pierwszej_rej','data_rejestracji_ost','data_pierwszej_rej_za_granica',\n",
    "            'data_wyrejestrowania','data_wprowadzenia_danych','data_pierwszej_rej_w_kraju',\n",
    "            'createtimestamp','modifytimestamp']:\n",
    "    cep[col] = pd.to_datetime(cep[col].astype(str), format='%Y-%m-%d', errors='coerce')\n",
    "    "
   ]
  },
  {
   "cell_type": "markdown",
   "metadata": {},
   "source": [
    "zmiana typu object na cetegory dla wybranych kolumn"
   ]
  },
  {
   "cell_type": "code",
   "execution_count": 48,
   "metadata": {},
   "outputs": [],
   "source": [
    "for col in ['rodzaj_tab_znamionowej','pochodzenie','sposob_produkcji',\n",
    "            'rodzaj_paliwa','rodzaj_paliwa_alternatywnego','rodzaj_paliwa_alternatywnego2','rodzaj_zawieszenia',\n",
    "            'radar','katalizator']:\n",
    "    cep[col] = cep[col].astype('category')\n",
    "    \n"
   ]
  },
  {
   "cell_type": "code",
   "execution_count": 30,
   "metadata": {
    "scrolled": true
   },
   "outputs": [
    {
     "name": "stdout",
     "output_type": "stream",
     "text": [
      "<class 'pandas.core.frame.DataFrame'>\n",
      "RangeIndex: 4719994 entries, 0 to 4719993\n",
      "Data columns (total 72 columns):\n",
      "pojazd_id                         int64\n",
      "marka                             object\n",
      "kategoria                         float64\n",
      "typ                               object\n",
      "model                             object\n",
      "wariant                           object\n",
      "wersja                            object\n",
      "rodzaj                            object\n",
      "podrodzaj                         object\n",
      "przeznaczenie                     object\n",
      "pochodzenie                       category\n",
      "rodzaj_tab_znamionowej            category\n",
      "rok_produkcji                     object\n",
      "sposob_produkcji                  category\n",
      "data_pierwszej_rej                datetime64[ns]\n",
      "data_rejestracji_ost              datetime64[ns]\n",
      "data_pierwszej_rej_za_granica     datetime64[ns]\n",
      "pojemnosc_silnika                 float64\n",
      "moc_do_masy                       float64\n",
      "moc_silnika                       float64\n",
      "moc_silnika_hybrydowego           float64\n",
      "masa_wlasna                       float64\n",
      "masa_pgj                          float64\n",
      "dopuszczalna_masa_calkowita       float64\n",
      "maksymalna_masa_calkowita         float64\n",
      "dopuszczalna_ladownosc_calk       float64\n",
      "maksymalna_ladownosc_calk         float64\n",
      "dopuszczalna_masa_ciag_zesp       float64\n",
      "liczba_osi                        float64\n",
      "naj_dopuszczalny_nacisk_osi       float64\n",
      "naj_maksymalny_nacisk_osi         float64\n",
      "max_masa_przyczepy_z_hamulcem     float64\n",
      "max_masa_przyczepy_bez_ham        float64\n",
      "liczba_miejsc_ogolem              float64\n",
      "liczba_miejsc_siedzacych          float64\n",
      "liczba_miejsc_stojacych           float64\n",
      "rodzaj_paliwa                     category\n",
      "rodzaj_paliwa_alternatywnego      category\n",
      "rodzaj_paliwa_alternatywnego2     category\n",
      "sr_zuzycie_pal                    float64\n",
      "rodzaj_zawieszenia                category\n",
      "radar                             category\n",
      "hak                               object\n",
      "kierownica_polozenie              float64\n",
      "kierownica_z_prawej               object\n",
      "katalizator                       category\n",
      "producent_podstawowy              object\n",
      "kod_ident                         float64\n",
      "rozstaw_osi_kierowanej            float64\n",
      "rozstaw_kol_max                   float64\n",
      "rozstaw_kol_sred                  float64\n",
      "rozstaw_kol_min                   float64\n",
      "emisja_co2_redukcja               float64\n",
      "wersja_rpp                        float64\n",
      "kod_rpp                           float64\n",
      "data_wyrejestrowania              datetime64[ns]\n",
      "przyczyna_wyrejestrowania         object\n",
      "data_wprowadzenia_danych          datetime64[ns]\n",
      "akt_miejsce_rej_wojwe             object\n",
      "akt_miejsce_rej_powiat            object\n",
      "akt_miejsce_rej_gmina             object\n",
      "siedziba_wlasciciela_woj          object\n",
      "siedziba_wlasciciela_pow          object\n",
      "siedziba_wlasciciela_gmina        object\n",
      "data_pierwszej_rej_w_kraju        datetime64[ns]\n",
      "createtimestamp                   datetime64[ns]\n",
      "modifytimestamp                   datetime64[ns]\n",
      "siedziba_wlasciciela_woj_teryt    float64\n",
      "akt_miejsce_rej_wojew_teryt       int64\n",
      "emisja_co2                        float64\n",
      "emisja_co2_pal_alternatywne1      float64\n",
      "rodzaj_tab_znamionowej_encoded    int64\n",
      "dtypes: category(9), datetime64[ns](8), float64(33), int64(3), object(19)\n",
      "memory usage: 2.3+ GB\n"
     ]
    }
   ],
   "source": [
    "cep.info()"
   ]
  },
  {
   "cell_type": "markdown",
   "metadata": {},
   "source": [
    "wczytanie słowników"
   ]
  },
  {
   "cell_type": "code",
   "execution_count": 55,
   "metadata": {},
   "outputs": [],
   "source": []
  },
  {
   "cell_type": "code",
   "execution_count": 54,
   "metadata": {},
   "outputs": [],
   "source": [
    "\n",
    "df_dict_marki = loadCEPDict(\"marka\")\n",
    "df_dict_pochodzenie_pojazdu = loadCEPDict(\"pochodzenie-pojazdu\")\n",
    "df_dict_rodzaj_paliwa = loadCEPDict(\"rodzaj-paliwa\")\n",
    "df_dict_rodzaj_pojazdu = loadCEPDict(\"rodzaj-pojazdu\")"
   ]
  },
  {
   "cell_type": "code",
   "execution_count": 51,
   "metadata": {
    "scrolled": true
   },
   "outputs": [
    {
     "name": "stdout",
     "output_type": "stream",
     "text": [
      "<class 'pandas.core.frame.DataFrame'>\n",
      "RangeIndex: 4719994 entries, 0 to 4719993\n",
      "Data columns (total 72 columns):\n",
      "pojazd_id                         int64\n",
      "marka                             object\n",
      "kategoria                         float64\n",
      "typ                               object\n",
      "model                             object\n",
      "wariant                           object\n",
      "wersja                            object\n",
      "rodzaj                            object\n",
      "podrodzaj                         object\n",
      "przeznaczenie                     object\n",
      "pochodzenie                       category\n",
      "rodzaj_tab_znamionowej            category\n",
      "rok_produkcji                     object\n",
      "sposob_produkcji                  category\n",
      "data_pierwszej_rej                datetime64[ns]\n",
      "data_rejestracji_ost              datetime64[ns]\n",
      "data_pierwszej_rej_za_granica     datetime64[ns]\n",
      "pojemnosc_silnika                 float64\n",
      "moc_do_masy                       float64\n",
      "moc_silnika                       float64\n",
      "moc_silnika_hybrydowego           float64\n",
      "masa_wlasna                       float64\n",
      "masa_pgj                          float64\n",
      "dopuszczalna_masa_calkowita       float64\n",
      "maksymalna_masa_calkowita         float64\n",
      "dopuszczalna_ladownosc_calk       float64\n",
      "maksymalna_ladownosc_calk         float64\n",
      "dopuszczalna_masa_ciag_zesp       float64\n",
      "liczba_osi                        float64\n",
      "naj_dopuszczalny_nacisk_osi       float64\n",
      "naj_maksymalny_nacisk_osi         float64\n",
      "max_masa_przyczepy_z_hamulcem     float64\n",
      "max_masa_przyczepy_bez_ham        float64\n",
      "liczba_miejsc_ogolem              float64\n",
      "liczba_miejsc_siedzacych          float64\n",
      "liczba_miejsc_stojacych           float64\n",
      "rodzaj_paliwa                     category\n",
      "rodzaj_paliwa_alternatywnego      category\n",
      "rodzaj_paliwa_alternatywnego2     category\n",
      "sr_zuzycie_pal                    float64\n",
      "rodzaj_zawieszenia                category\n",
      "radar                             category\n",
      "hak                               object\n",
      "kierownica_polozenie              float64\n",
      "kierownica_z_prawej               object\n",
      "katalizator                       category\n",
      "producent_podstawowy              object\n",
      "kod_ident                         float64\n",
      "rozstaw_osi_kierowanej            float64\n",
      "rozstaw_kol_max                   float64\n",
      "rozstaw_kol_sred                  float64\n",
      "rozstaw_kol_min                   float64\n",
      "emisja_co2_redukcja               float64\n",
      "wersja_rpp                        float64\n",
      "kod_rpp                           float64\n",
      "data_wyrejestrowania              datetime64[ns]\n",
      "przyczyna_wyrejestrowania         object\n",
      "data_wprowadzenia_danych          datetime64[ns]\n",
      "akt_miejsce_rej_wojwe             object\n",
      "akt_miejsce_rej_powiat            object\n",
      "akt_miejsce_rej_gmina             object\n",
      "siedziba_wlasciciela_woj          object\n",
      "siedziba_wlasciciela_pow          object\n",
      "siedziba_wlasciciela_gmina        object\n",
      "data_pierwszej_rej_w_kraju        datetime64[ns]\n",
      "createtimestamp                   datetime64[ns]\n",
      "modifytimestamp                   datetime64[ns]\n",
      "siedziba_wlasciciela_woj_teryt    float64\n",
      "akt_miejsce_rej_wojew_teryt       int64\n",
      "emisja_co2                        float64\n",
      "emisja_co2_pal_alternatywne1      float64\n",
      "rodzaj_tab_znamionowej_encoded    int64\n",
      "dtypes: category(9), datetime64[ns](8), float64(33), int64(3), object(19)\n",
      "memory usage: 2.3+ GB\n"
     ]
    }
   ],
   "source": [
    "cep.info()"
   ]
  },
  {
   "cell_type": "code",
   "execution_count": 52,
   "metadata": {},
   "outputs": [
    {
     "data": {
      "text/plain": [
       "N    2453120\n",
       "B    1563288\n",
       "T     703586\n",
       "Name: katalizator, dtype: int64"
      ]
     },
     "execution_count": 52,
     "metadata": {},
     "output_type": "execute_result"
    }
   ],
   "source": [
    "cep.katalizator.value_counts()"
   ]
  },
  {
   "cell_type": "code",
   "execution_count": null,
   "metadata": {},
   "outputs": [],
   "source": []
  }
 ],
 "metadata": {
  "kernelspec": {
   "display_name": "Python 3",
   "language": "python",
   "name": "python3"
  },
  "language_info": {
   "codemirror_mode": {
    "name": "ipython",
    "version": 3
   },
   "file_extension": ".py",
   "mimetype": "text/x-python",
   "name": "python",
   "nbconvert_exporter": "python",
   "pygments_lexer": "ipython3",
   "version": "3.7.4"
  }
 },
 "nbformat": 4,
 "nbformat_minor": 2
}
